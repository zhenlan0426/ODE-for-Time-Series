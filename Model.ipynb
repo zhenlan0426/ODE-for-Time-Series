{
 "cells": [
  {
   "cell_type": "code",
   "execution_count": 1,
   "id": "74e2245e",
   "metadata": {},
   "outputs": [],
   "source": [
    "from functions import *\n",
    "from torch.optim import AdamW"
   ]
  },
  {
   "cell_type": "code",
   "execution_count": 2,
   "id": "eee2f1c0",
   "metadata": {},
   "outputs": [],
   "source": [
    "# model spec\n",
    "d, d_target, layers_time, layers_depth, num_heads, BN, dropout, T = 360,7,2,1,8,False,0.05,y_len\n",
    "time_fun = lambda t,x: torch.ones(x.shape[-1],device=x.device)*t\n",
    "d_enc, layers_enc, num_heads_enc, BN_enc, dropout_enc = 256,1,8,False,0.05\n",
    "d_mid = 4"
   ]
  },
  {
   "cell_type": "code",
   "execution_count": 3,
   "id": "b90adfe5",
   "metadata": {},
   "outputs": [],
   "source": [
    "# training spec\n",
    "batch_size = 64\n",
    "epochs = 20\n",
    "lr = 5e-4\n",
    "clip = 1e-3"
   ]
  },
  {
   "cell_type": "code",
   "execution_count": null,
   "id": "06e16beb",
   "metadata": {},
   "outputs": [],
   "source": []
  },
  {
   "cell_type": "code",
   "execution_count": 4,
   "id": "34578f66",
   "metadata": {},
   "outputs": [],
   "source": [
    "model = ODE_timeSeries(d, d_target, layers_time, layers_depth, num_heads, BN, dropout, time_fun,T,\\\n",
    "                 d_enc, layers_enc, num_heads_enc, BN_enc, dropout_enc,d_mid).to(device)"
   ]
  },
  {
   "cell_type": "code",
   "execution_count": 5,
   "id": "efb24c3f",
   "metadata": {},
   "outputs": [
    {
     "ename": "TypeError",
     "evalue": "get_data() takes 1 positional argument but 2 were given",
     "output_type": "error",
     "traceback": [
      "\u001b[0;31m---------------------------------------------------------------------------\u001b[0m",
      "\u001b[0;31mTypeError\u001b[0m                                 Traceback (most recent call last)",
      "\u001b[0;32m/tmp/ipykernel_4361/2844554105.py\u001b[0m in \u001b[0;36m<module>\u001b[0;34m\u001b[0m\n\u001b[0;32m----> 1\u001b[0;31m \u001b[0mval_dl\u001b[0m\u001b[0;34m,\u001b[0m\u001b[0mtrain_dl\u001b[0m \u001b[0;34m=\u001b[0m \u001b[0mget_data\u001b[0m\u001b[0;34m(\u001b[0m\u001b[0mbatch_size\u001b[0m\u001b[0;34m,\u001b[0m\u001b[0mX_len\u001b[0m\u001b[0;34m)\u001b[0m\u001b[0;34m\u001b[0m\u001b[0;34m\u001b[0m\u001b[0m\n\u001b[0m",
      "\u001b[0;31mTypeError\u001b[0m: get_data() takes 1 positional argument but 2 were given"
     ]
    }
   ],
   "source": [
    "val_dl,train_dl = get_data(batch_size)"
   ]
  },
  {
   "cell_type": "code",
   "execution_count": null,
   "id": "31e939db",
   "metadata": {},
   "outputs": [],
   "source": [
    "paras = model.parameters()\n",
    "opt = AdamW(paras,lr=lr)"
   ]
  },
  {
   "cell_type": "code",
   "execution_count": null,
   "id": "6cbbbe5d",
   "metadata": {
    "scrolled": false
   },
   "outputs": [],
   "source": [
    "model,lossBest = train(opt,model,epochs,train_dl,val_dl,paras,clip,verbose=True,save=False)"
   ]
  },
  {
   "cell_type": "code",
   "execution_count": null,
   "id": "06b39cb6",
   "metadata": {},
   "outputs": [],
   "source": []
  }
 ],
 "metadata": {
  "kernelspec": {
   "display_name": "Python 3 (ipykernel)",
   "language": "python",
   "name": "python3"
  },
  "language_info": {
   "codemirror_mode": {
    "name": "ipython",
    "version": 3
   },
   "file_extension": ".py",
   "mimetype": "text/x-python",
   "name": "python",
   "nbconvert_exporter": "python",
   "pygments_lexer": "ipython3",
   "version": "3.9.15"
  }
 },
 "nbformat": 4,
 "nbformat_minor": 5
}
